{
 "cells": [
  {
   "cell_type": "code",
   "execution_count": 35,
   "id": "de4ec562",
   "metadata": {},
   "outputs": [],
   "source": [
    "import fitz  # PyMuPDF\n",
    "\n",
    "def extract_text_from_pdf(pdf_path):\n",
    "    text = \"\"\n",
    "    with fitz.open(pdf_path) as doc:\n",
    "        for page in doc:\n",
    "            text += page.get_text()\n",
    "    return text\n"
   ]
  },
  {
   "cell_type": "code",
   "execution_count": 36,
   "id": "9efce0d1",
   "metadata": {},
   "outputs": [],
   "source": [
    "import google.generativeai as genai\n",
    "\n",
    "# Configure the Gemini API client\n",
    "genai.configure(api_key=\"\")\n",
    "\n",
    "def summarize_text(text):\n",
    "    model = genai.GenerativeModel(\"gemini-1.5-flash\")\n",
    "    response = model.generate_content(f\"Summarize the following text:\\n\\n{text}\")\n",
    "    return response.text\n"
   ]
  },
  {
   "cell_type": "code",
   "execution_count": 38,
   "id": "ced17822",
   "metadata": {},
   "outputs": [
    {
     "name": "stdout",
     "output_type": "stream",
     "text": [
      "This systematic review analyzes recent (2016-2021) approaches to generating synthetic tabular data for healthcare records, focusing on the use of Generative Adversarial Networks (GANs) to protect patient privacy.  The authors reviewed 34 publications and classified the methods into three categories: classical approaches (baseline methods, statistical models, and machine learning models), deep learning approaches (autoencoders, GANs, and ensembles), and other approaches (CoMSER, Aten Framework, SynSys, Synthea, Prophet).  While GAN-based methods showed promising results in generating usable and private data resembling real data, the study found a lack of universally accepted metrics for evaluating resemblance, utility, and privacy.  The authors conclude that further research is needed to develop standardized evaluation methods and improve the generalizability of GANs for diverse tabular healthcare datasets.\n",
      "\n"
     ]
    }
   ],
   "source": [
    "def summarize_pdf(pdf_path):\n",
    "    # Extract text from PDF\n",
    "    text = extract_text_from_pdf(pdf_path)\n",
    "    \n",
    "    # Summarize the extracted text\n",
    "    summary = summarize_text(text)\n",
    "    \n",
    "    return summary\n",
    "\n",
    "# Example usage\n",
    "pdf_path = r\"C:\\Users\\Nilanjan\\Desktop\\hern.pdf\"\n",
    "summary = summarize_pdf(pdf_path)\n",
    "print(summary)\n"
   ]
  },
  {
   "cell_type": "code",
   "execution_count": 39,
   "id": "a24511ee",
   "metadata": {},
   "outputs": [],
   "source": [
    "def chunk_text(text, max_tokens=2048):\n",
    "    # Split text into chunks of max_tokens size\n",
    "    words = text.split()\n",
    "    for i in range(0, len(words), max_tokens):\n",
    "        yield ' '.join(words[i:i + max_tokens])\n",
    "\n",
    "def summarize_large_pdf(pdf_path):\n",
    "    text = extract_text_from_pdf(pdf_path)\n",
    "    summaries = []\n",
    "    for chunk in chunk_text(text):\n",
    "        summary = summarize_text(chunk)\n",
    "        summaries.append(summary)\n",
    "    return ' '.join(summaries)\n"
   ]
  },
  {
   "cell_type": "code",
   "execution_count": 43,
   "id": "583b2ea1",
   "metadata": {},
   "outputs": [
    {
     "name": "stdout",
     "output_type": "stream",
     "text": [
      "Enter the path to the PDF file: C:\\Users\\Nilanjan\\Desktop\\CTGAN first.pdf\n",
      "\n",
      "Summary of the PDF:\n",
      "This paper introduces CTGAN, a Conditional Tabular GAN, designed to generate realistic synthetic tabular data.  Existing methods struggle with the complexities of tabular data, including mixed data types (continuous and discrete), non-Gaussian and multimodal distributions in continuous columns, imbalanced categorical columns, and the sparsity of one-hot encoded vectors.  CTGAN addresses these challenges using several novel techniques: mode-specific normalization to handle non-Gaussian and multimodal continuous data, a conditional generator and training-by-sampling to mitigate imbalanced categorical columns.  Benchmarked against Bayesian network baselines and other GANs on a suite of simulated and real datasets, CTGAN significantly outperforms existing methods in terms of both likelihood fitness and machine learning efficacy of the generated data.  The authors also provide an open-source benchmark framework for evaluating synthetic data generation algorithms.\n",
      " This paper introduces two new generative models for tabular data: CTGAN and TVAE.  CTGAN, a Conditional GAN, generates synthetic rows conditioned on discrete columns, addressing issues of condition representation, condition preservation, and learning the real data conditional distribution.  It uses a conditional vector, a modified generator loss incorporating cross-entropy, and a training-by-sampling method to achieve this.  The architecture utilizes fully-connected networks with specific activation functions (ReLU, tanh, Gumbel-softmax) and employs the PacGAN framework to mitigate mode collapse. TVAE adapts a Variational Autoencoder (VAE) to tabular data, modifying the loss function and network design to accurately model the joint distribution of variables (Gaussian for continuous, categorical for discrete).\n",
      "\n",
      "Both CTGAN and TVAE are benchmarked against Bayesian networks (CLBN, PrivBN) and other deep learning approaches (MedGAN, VeeGAN, TableGAN) using a comprehensive suite of 7 simulated and 8 real-world datasets.  Evaluation uses likelihood fitness metrics (Lsyn, Ltest) for simulated data and machine learning efficacy (accuracy, F1-score, R²) for real data, assessing performance across multiple classifiers/regressors.  The benchmarking framework addresses previous limitations in comparing synthetic data generation methods by standardizing datasets and metrics.\n",
      " This paper benchmarks several deep generative models (CLBN, PrivBN, MedGAN, VeeGAN, TableGAN, TVAE, and CTGAN) for synthetic tabular data generation.  The models are evaluated on simulated (Gaussian mixture and Bayesian network) and real-world datasets using a framework that assesses the accuracy of prediction models trained on the generated data.  CTGAN, the proposed model, generally outperforms other GANs, particularly on continuous data, thanks to its mode-specific normalization.  While Bayesian networks perform well on simulated data, CTGAN and TVAE surpass them on real datasets, especially when dealing with large-scale data where learning high-quality Bayesian networks becomes challenging.  An ablation study confirms the importance of CTGAN's mode-specific normalization, conditional generator, and training-by-sampling components, especially for imbalanced datasets.  The authors conclude that CTGAN offers a flexible and robust approach to synthetic data generation for tables containing both discrete and continuous variables, although further theoretical justification is needed.\n",
      " The text presents a comparative study of seven generative models (CLBN, PrivBN, MedGAN, VEEGAN, TableGAN, TVAE, and TGAN) across three experimental datasets: Gaussian mixture simulated data, Bayesian network simulated data, and real-world data.  The models' performance is evaluated using multiple metrics, and a ranking system is employed.  Each model receives an average rank across all datasets and metrics.  TVAE consistently achieves the highest ranking (lowest average rank, indicating best performance), while MedGAN and VEEGAN perform the worst.  The provided tables show the specific performance scores for each model on each dataset and metric.  Finally, a pseudocode description of a conditional training algorithm (Algorithm 1, likely used in at least one of the evaluated models) is included, detailing the training process using techniques like gradient penalty.\n",
      "\n"
     ]
    }
   ],
   "source": [
    "if __name__ == \"__main__\":\n",
    "    # Ask the user for the PDF file path\n",
    "    pdf_path = input(\"Enter the path to the PDF file: \").strip()\n",
    "\n",
    "    try:\n",
    "        # Summarize the PDF content\n",
    "        summary = summarize_large_pdf(pdf_path)\n",
    "\n",
    "        # Output the summary\n",
    "        print(\"\\nSummary of the PDF:\")\n",
    "        print(summary)\n",
    "    except FileNotFoundError:\n",
    "        print(f\"Error: The file '{pdf_path}' was not found.\")\n",
    "    except Exception as e:\n",
    "        print(f\"An error occurred: {e}\")\n",
    "        \n"
   ]
  },
  {
   "cell_type": "code",
   "execution_count": 44,
   "id": "2a9690b7",
   "metadata": {},
   "outputs": [
    {
     "name": "stdout",
     "output_type": "stream",
     "text": [
      "Enter the path to the PDF file: C:\\Users\\Nilanjan\\Desktop\\CTGAN first.pdf\n",
      "PDF loaded successfully! You can now ask questions.\n",
      "\n",
      "What would you like to ask about the PDF? (Type 'exit' to quit): what is it about?\n",
      "\n",
      "Answer: This paper introduces CTGAN, a Conditional Tabular Generative Adversarial Network, designed to generate realistic synthetic tabular data.  The authors address challenges faced by existing GANs and other methods when dealing with the complexities of tabular data, such as mixed data types (continuous and discrete), non-Gaussian and multimodal distributions, imbalanced categorical columns, and sparse one-hot encodings.  CTGAN incorporates several novel techniques, including mode-specific normalization, a conditional generator, and training-by-sampling, to overcome these challenges.  The paper presents a comprehensive benchmark using simulated and real-world datasets, demonstrating that CTGAN significantly outperforms existing methods, including Bayesian network baselines and other GANs, in terms of both likelihood fitness and machine learning efficacy of the generated data.  A variational autoencoder adaptation (TVAE) is also presented and compared against CTGAN.  The paper concludes with an ablation study evaluating the contribution of each component of CTGAN.\n",
      "\n",
      "\n",
      "What would you like to ask about the PDF? (Type 'exit' to quit): WHat is the research gap?\n",
      "\n",
      "Answer: The research gap identified in the paper is the inadequacy of existing statistical and deep neural network models in properly modeling the probability distribution of rows in tabular data, especially when the data contains a mix of discrete and continuous columns with complex characteristics.  These complexities include:\n",
      "\n",
      "* **Mixed data types:** The simultaneous handling of discrete and continuous variables.\n",
      "* **Non-Gaussian distributions:** Continuous columns often deviate significantly from a Gaussian distribution.\n",
      "* **Multimodal distributions:**  Continuous columns may exhibit multiple modes, not just a single peak.\n",
      "* **Highly imbalanced categorical columns:**  Discrete columns frequently show severe imbalances in the frequency of categories.\n",
      "* **Learning from sparse one-hot-encoded vectors:** The challenge of training generative models effectively when discrete data is represented in a sparse one-hot encoding.\n",
      "\n",
      "\n",
      "Existing GANs, and even VAEs,  struggle to address these challenges simultaneously, often resulting in poor likelihood fitness and machine learning efficacy of the generated synthetic data.  The authors highlight the lack of a standardized benchmarking system for comparing different synthetic data generation algorithms as a further barrier to progress.\n",
      "\n",
      "\n",
      "What would you like to ask about the PDF? (Type 'exit' to quit): exit\n",
      "Goodbye!\n"
     ]
    }
   ],
   "source": [
    "def ask_question_about_pdf(pdf_text, question):\n",
    "    # Combine PDF content with the question for context\n",
    "    context = f\"Text: {pdf_text}\\n\\nQuestion: {question}\"\n",
    "    \n",
    "    model = genai.GenerativeModel(\"gemini-1.5-flash\")\n",
    "    response = model.generate_content(f\"{context}\\nAnswer the question.\")\n",
    "    return response.text\n",
    "\n",
    "# Function to load the PDF and initiate the chatbot loop\n",
    "def chatbot_interaction(pdf_path):\n",
    "    # Extract text from the provided PDF\n",
    "    pdf_text = extract_text_from_pdf(pdf_path)\n",
    "\n",
    "    print(\"PDF loaded successfully! You can now ask questions.\")\n",
    "    \n",
    "    # Interactive chatbot loop for real-time questions\n",
    "    while True:\n",
    "        # Get user input (question)\n",
    "        question = input(\"\\nWhat would you like to ask about the PDF? (Type 'exit' to quit): \")\n",
    "\n",
    "        # Exit condition\n",
    "        if question.lower() == \"exit\":\n",
    "            print(\"Goodbye!\")\n",
    "            break\n",
    "\n",
    "        # Get the answer from the model\n",
    "        answer = ask_question_about_pdf(pdf_text, question)\n",
    "        \n",
    "        # Print the model's answer\n",
    "        print(\"\\nAnswer:\", answer)\n",
    "\n",
    "# Interact with the model in a Jupyter cell\n",
    "pdf_path = input(\"Enter the path to the PDF file: \").strip()\n",
    "\n",
    "# Start the chatbot interaction directly within the editor\n",
    "chatbot_interaction(pdf_path)"
   ]
  },
  {
   "cell_type": "code",
   "execution_count": null,
   "id": "2eaa49ee",
   "metadata": {},
   "outputs": [],
   "source": []
  }
 ],
 "metadata": {
  "kernelspec": {
   "display_name": "Python 3 (ipykernel)",
   "language": "python",
   "name": "python3"
  },
  "language_info": {
   "codemirror_mode": {
    "name": "ipython",
    "version": 3
   },
   "file_extension": ".py",
   "mimetype": "text/x-python",
   "name": "python",
   "nbconvert_exporter": "python",
   "pygments_lexer": "ipython3",
   "version": "3.11.4"
  }
 },
 "nbformat": 4,
 "nbformat_minor": 5
}
